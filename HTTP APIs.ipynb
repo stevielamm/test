{
 "cells": [
  {
   "cell_type": "markdown",
   "metadata": {},
   "source": [
    "Opens server"
   ]
  },
  {
   "cell_type": "code",
   "execution_count": 1,
   "metadata": {},
   "outputs": [
    {
     "name": "stdout",
     "output_type": "stream",
     "text": [
      " * Serving Flask app '__main__'\n",
      " * Debug mode: off\n"
     ]
    },
    {
     "name": "stderr",
     "output_type": "stream",
     "text": [
      "WARNING: This is a development server. Do not use it in a production deployment. Use a production WSGI server instead.\n",
      " * Running on all addresses (0.0.0.0)\n",
      " * Running on http://127.0.0.1:5001\n",
      " * Running on http://10.110.7.128:5001\n",
      "Press CTRL+C to quit\n",
      "127.0.0.1 - - [06/Oct/2022 09:50:42] \"GET / HTTP/1.1\" 200 -\n",
      "127.0.0.1 - - [06/Oct/2022 09:50:42] \"GET /style.css HTTP/1.1\" 404 -\n",
      "127.0.0.1 - - [06/Oct/2022 09:50:42] \"GET /script.js HTTP/1.1\" 404 -\n",
      "127.0.0.1 - - [06/Oct/2022 09:50:44] \"GET /__repl?utm_medium=webview_badge HTTP/1.1\" 404 -\n",
      "127.0.0.1 - - [06/Oct/2022 09:51:02] \"GET /__repl?utm_medium=webview_badge HTTP/1.1\" 404 -\n"
     ]
    }
   ],
   "source": [
    "from flask import Flask, render_template, request\n",
    "\n",
    "app = Flask(__name__)\n",
    "\n",
    "@app.route('/')\n",
    "def homePage():\n",
    "    if request.method == \"GET\":\n",
    "        return render_template('index.html')\n",
    "    elif request.method == \"POST\":\n",
    "        return \"test\"\n",
    "\n",
    "@app.route('/login')\n",
    "def login():\n",
    "    if request.method == \"GET\":\n",
    "        return \"This is the login page\"\n",
    "    elif request.method == \"POST\":\n",
    "        return \"test\"\n",
    "\n",
    "@app.route(\"/editprofile\")\n",
    "def editProfile():\n",
    "    if request.method == \"GET\":\n",
    "        return \"This is the edit profile page\"\n",
    "    elif request.method == \"POST\":\n",
    "        return \"test\"\n",
    "\n",
    "@app.route(\"/tracker\")\n",
    "def tracker():\n",
    "    if request.method == \"GET\":\n",
    "        return \"This is the tracker page\"\n",
    "    elif request.method == \"POST\":\n",
    "        return \"test\"\n",
    "\n",
    "@app.route(\"/tracker/search\")\n",
    "def search():\n",
    "    if request.method == \"GET\":\n",
    "        return \"This is the search page\"\n",
    "    elif request.method == \"POST\":\n",
    "        return \"test\"\n",
    "\n",
    "@app.route(\"/notepad\")\n",
    "def notepad():\n",
    "    if request.method == \"GET\":\n",
    "        return \"This is the notepade page\"\n",
    "    elif request.method == \"POST\":\n",
    "        return \"test\"\n",
    "\n",
    "app.run(host='0.0.0.0', port=5001)"
   ]
  },
  {
   "cell_type": "markdown",
   "metadata": {},
   "source": [
    "Kills Server to reopen port"
   ]
  },
  {
   "cell_type": "code",
   "execution_count": null,
   "metadata": {},
   "outputs": [
    {
     "ename": "",
     "evalue": "",
     "output_type": "error",
     "traceback": [
      "\u001b[1;31mCanceled future for execute_request message before replies were done"
     ]
    },
    {
     "ename": "",
     "evalue": "",
     "output_type": "error",
     "traceback": [
      "The Kernel crashed while executing code in the the current cell or a previous cell. Please review the code in the cell(s) to identify a possible cause of the failure. Click <a href='https://aka.ms/vscodeJupyterKernelCrash'>here</a> for more info. View Jupyter <a href='command:jupyter.viewOutput'>log</a> for further details."
     ]
    }
   ],
   "source": [
    "import os\n",
    "import signal\n",
    "\n",
    "sig = getattr(signal, \"SIGKILL\", signal.SIGTERM)\n",
    "os.kill(os.getpid(), sig)"
   ]
  }
 ],
 "metadata": {
  "kernelspec": {
   "display_name": "Python 3.8.10 64-bit",
   "language": "python",
   "name": "python3"
  },
  "language_info": {
   "codemirror_mode": {
    "name": "ipython",
    "version": 3
   },
   "file_extension": ".py",
   "mimetype": "text/x-python",
   "name": "python",
   "nbconvert_exporter": "python",
   "pygments_lexer": "ipython3",
   "version": "3.8.10"
  },
  "orig_nbformat": 4,
  "vscode": {
   "interpreter": {
    "hash": "aee8b7b246df8f9039afb4144a1f6fd8d2ca17a180786b69acc140d282b71a49"
   }
  }
 },
 "nbformat": 4,
 "nbformat_minor": 2
}
